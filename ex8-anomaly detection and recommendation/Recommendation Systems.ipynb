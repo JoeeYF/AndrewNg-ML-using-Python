{
 "cells": [
  {
   "cell_type": "code",
   "execution_count": 224,
   "metadata": {},
   "outputs": [],
   "source": [
    "import numpy as np\n",
    "import pandas as pd\n",
    "import scipy.io as sio\n",
    "import matplotlib.pyplot as plt\n",
    "from scipy.io import loadmat"
   ]
  },
  {
   "cell_type": "markdown",
   "metadata": {},
   "source": [
    "在推荐系统作业中，我们使用协同过滤算法应用于一个电影评分数据集中。\n"
   ]
  },
  {
   "cell_type": "markdown",
   "metadata": {},
   "source": [
    "## 读入数据\n",
    "首先读入数据。movies_mat中包含了Y和R两组数据，其中Y为用户给电影平的分（0-5），R为用户是否给电影评分,两者维度相同。params_mat包含一组预训练的参数电影特征X和用户参数Theta。"
   ]
  },
  {
   "cell_type": "code",
   "execution_count": 225,
   "metadata": {},
   "outputs": [
    {
     "name": "stdout",
     "output_type": "stream",
     "text": [
      "(1682, 943) (1682, 943)\n",
      "(1682, 10) (943, 10)\n"
     ]
    }
   ],
   "source": [
    "movies_mat = sio.loadmat('./data/ex8_movies.mat')\n",
    "Y,R = movies_mat['Y'],movies_mat['R']\n",
    "print(Y.shape,R.shape)\n",
    "\n",
    "params_mat = sio.loadmat('./data/ex8_movieParams.mat')\n",
    "X,Theta=params_mat['X'],params_mat['Theta']\n",
    "print(X.shape,Theta.shape)"
   ]
  },
  {
   "cell_type": "markdown",
   "metadata": {},
   "source": [
    "## 定义代价函数及梯度算法\n",
    "接下来，定义协同过滤算法的代价函数及梯度，并进行测试。"
   ]
  },
  {
   "cell_type": "code",
   "execution_count": 226,
   "metadata": {},
   "outputs": [
    {
     "name": "stdout",
     "output_type": "stream",
     "text": [
      "31.344056244274217\n",
      "[[-10.13985478   2.10136256  -6.76563628]\n",
      " [ -2.29347024   0.48244098  -2.99791422]\n",
      " [ -0.64787484  -0.71820673   1.27006666]\n",
      " [  1.09289758  -0.40784086   0.49026541]]\n",
      "[[-0.95596339  6.97535514 -0.10861109]\n",
      " [ 0.60308088  2.77421145  0.25839822]\n",
      " [ 0.12985616  4.0898522  -0.89247334]\n",
      " [ 0.29684395  1.06300933  0.66738144]\n",
      " [ 0.60252677  4.90185327 -0.19747928]]\n"
     ]
    }
   ],
   "source": [
    "def cost(Y,R,Theta,X,n_feature,lam):\n",
    "    \n",
    "    error = np.dot(X,Theta.T)-Y\n",
    "    j = 0.5 * np.sum((error**2)*R) + 0.5*lam*np.sum(X**2) + 0.5*lam*np.sum(Theta**2)\n",
    "    Theta_grad = np.dot((error*R).T,X)+lam*Theta\n",
    "    X_grad = np.dot((error*R),Theta)+lam*X\n",
    "    \n",
    "    return j,Theta_grad,X_grad\n",
    "\n",
    "# 仅取部分数据进行测设\n",
    "users = 4\n",
    "movies = 5\n",
    "features = 3\n",
    "\n",
    "X_sub = X[:movies, :features]\n",
    "Theta_sub = Theta[:users, :features]\n",
    "Y_sub = Y[:movies, :users]\n",
    "R_sub = R[:movies, :users]\n",
    "\n",
    "j,Theta_grad,X_grad = cost(Y_sub,R_sub,Theta_sub,X_sub,features,1.5)\n",
    "print(j)\n",
    "print(Theta_grad)\n",
    "print(X_grad)"
   ]
  },
  {
   "cell_type": "markdown",
   "metadata": {},
   "source": [
    "## 读入电影名称\n",
    "上述计算结果与预期相同，下面我们打开movie_ids.txt文件，这个文件提供了1682部电影的名称，我们可以读入文件，并创建一个电影序号到其名称的字典。"
   ]
  },
  {
   "cell_type": "code",
   "execution_count": 227,
   "metadata": {},
   "outputs": [],
   "source": [
    "movies_idx={}\n",
    "with open('./data/movie_ids.txt') as f:\n",
    "    for line in f:\n",
    "        tokens = line.split(' ')\n",
    "        key = tokens[0]\n",
    "        value = ' '.join(tokens[1:])\n",
    "        movies_idx[int(key)-1]=value"
   ]
  },
  {
   "cell_type": "markdown",
   "metadata": {},
   "source": [
    "## 加入个人评分并更新数据\n",
    "下面使用练习中提供的评分作为自己的评分,并把这个评分加入到评分矩阵Y和R中。"
   ]
  },
  {
   "cell_type": "code",
   "execution_count": 228,
   "metadata": {},
   "outputs": [
    {
     "name": "stdout",
     "output_type": "stream",
     "text": [
      "rated 4 for Toy Story (1995)\n",
      "\n",
      "rated 3 for Twelve Monkeys (1995)\n",
      "\n",
      "rated 5 for Usual Suspects, The (1995)\n",
      "\n",
      "rated 4 for Outbreak (1995)\n",
      "\n",
      "rated 5 for Shawshank Redemption, The (1994)\n",
      "\n",
      "rated 3 for While You Were Sleeping (1995)\n",
      "\n",
      "rated 5 for Forrest Gump (1994)\n",
      "\n",
      "rated 2 for Silence of the Lambs, The (1991)\n",
      "\n",
      "rated 4 for Alien (1979)\n",
      "\n",
      "rated 5 for Die Hard 2 (1990)\n",
      "\n",
      "rated 5 for Sphere (1998)\n",
      "\n",
      "(1682, 944) (1682, 944)\n"
     ]
    }
   ],
   "source": [
    "ratings = np.zeros(1682)\n",
    "\n",
    "ratings[0] = 4\n",
    "ratings[6] = 3\n",
    "ratings[11] = 5\n",
    "ratings[53] = 4\n",
    "ratings[63] = 5\n",
    "ratings[65] = 3\n",
    "ratings[68] = 5\n",
    "ratings[97] = 2\n",
    "ratings[182] = 4\n",
    "ratings[225] = 5\n",
    "ratings[354] = 5\n",
    "\n",
    "for i in range(1682):\n",
    "    if int(ratings[i]) != 0:\n",
    "        print('rated {0} for {1}'.format(str(int(ratings[i])), movies_idx[i]))\n",
    "        \n",
    "Y,R = movies_mat['Y'],movies_mat['R']\n",
    "Y = np.insert(Y, 0, ratings, axis=1)\n",
    "R = np.insert(R, 0, ratings!=0, axis = 1)\n",
    "print(Y.shape,R.shape)"
   ]
  },
  {
   "cell_type": "markdown",
   "metadata": {},
   "source": [
    "## 初始化参数\n",
    "对电影特征及用户参数进行初始化,并对评分矩阵Y进行归一化"
   ]
  },
  {
   "cell_type": "code",
   "execution_count": 268,
   "metadata": {},
   "outputs": [
    {
     "data": {
      "text/plain": [
       "7.338986115742988e-19"
      ]
     },
     "execution_count": 268,
     "metadata": {},
     "output_type": "execute_result"
    }
   ],
   "source": [
    "movies = Y.shape[0]\n",
    "users = Y.shape[1]\n",
    "features = 50\n",
    "lam = 1\n",
    "learning_rate= 0.003\n",
    "iters  =  1000000\n",
    "Theta = np.random.randn(users,features)\n",
    "X = np.random.randn(movies,features)\n",
    "\n",
    "Y_mean = (np.sum(Y, axis=1)/np.sum(R,axis=1)).reshape(1682,1)\n",
    "Y_norm = (Y - Y_mean)*R\n",
    "np.mean(Y_norm)"
   ]
  },
  {
   "cell_type": "markdown",
   "metadata": {},
   "source": [
    "## 训练"
   ]
  },
  {
   "cell_type": "code",
   "execution_count": 278,
   "metadata": {},
   "outputs": [
    {
     "name": "stdout",
     "output_type": "stream",
     "text": [
      "cost after 0 iter: 8283.384866325963\n",
      "cost after 50 iter: 8282.903717410212\n",
      "cost after 100 iter: 8282.425024485085\n",
      "cost after 1000000 iter: 8282.41547568679\n"
     ]
    },
    {
     "data": {
      "image/png": "[encoded data removed]",
      "text/plain": [
       "<Figure size 432x288 with 1 Axes>"
      ]
     },
     "metadata": {},
     "output_type": "display_data"
    }
   ],
   "source": [
    "j_list = []\n",
    "for i in range(iters):\n",
    "    j,Theta_grad,X_grad = cost(Y_norm,R,Theta,X,features,lam)\n",
    "    X = X - learning_rate*X_grad\n",
    "    Theta = Theta - learning_rate*Theta_grad\n",
    "    j_list.append(j)\n",
    "    if i %50 == 0:\n",
    "        print('cost after '+str(i)+' iter:',j)\n",
    "    if i > 100 :\n",
    "        if j_list[i-200] - j_list[i] < 1:\n",
    "            break\n",
    "print('cost after '+str(iters)+' iter:',j)\n",
    "plt.plot(j_list)\n",
    "plt.show()"
   ]
  },
  {
   "cell_type": "markdown",
   "metadata": {},
   "source": [
    "## 预测\n",
    "进行预测并打印出预测评分前10的电影。"
   ]
  },
  {
   "cell_type": "code",
   "execution_count": 275,
   "metadata": {},
   "outputs": [
    {
     "data": {
      "text/plain": [
       "(1682,)"
      ]
     },
     "execution_count": 275,
     "metadata": {},
     "output_type": "execute_result"
    }
   ],
   "source": [
    "prediction = X @ Theta.T\n",
    "my_preds = prediction[:, 0] + np.squeeze(Y_mean)\n",
    "my_preds.shape"
   ]
  },
  {
   "cell_type": "code",
   "execution_count": 276,
   "metadata": {},
   "outputs": [
    {
     "data": {
      "text/plain": [
       "array([  95,  186,   49, ...,  829, 1573,  423], dtype=int64)"
      ]
     },
     "execution_count": 276,
     "metadata": {},
     "output_type": "execute_result"
    }
   ],
   "source": [
    "idx = np.argsort(my_preds, axis=0)[::-1]\n",
    "idx"
   ]
  },
  {
   "cell_type": "code",
   "execution_count": 277,
   "metadata": {},
   "outputs": [
    {
     "name": "stdout",
     "output_type": "stream",
     "text": [
      "Top 10 movie predictions:\n",
      "Predicted rating of 5.491322023246072 for movie Terminator 2: Judgment Day (1991)\n",
      "\n",
      "Predicted rating of 5.445519167953797 for movie Godfather: Part II, The (1974)\n",
      "\n",
      "Predicted rating of 5.345872473529196 for movie Star Wars (1977)\n",
      "\n",
      "Predicted rating of 5.334388794335587 for movie Tomorrow Never Dies (1997)\n",
      "\n",
      "Predicted rating of 5.171844281754199 for movie Princess Bride, The (1987)\n",
      "\n",
      "Predicted rating of 5.109164633438269 for movie Godfather, The (1972)\n",
      "\n",
      "Predicted rating of 5.071775247027251 for movie Monty Python and the Holy Grail (1974)\n",
      "\n",
      "Predicted rating of 5.053473763368055 for movie Terminator, The (1984)\n",
      "\n",
      "Predicted rating of 5.0 for movie Saint of Fort Washington, The (1993)\n",
      "\n",
      "Predicted rating of 5.0 for movie Entertaining Angels: The Dorothy Day Story (1996)\n",
      "\n"
     ]
    }
   ],
   "source": [
    "print(\"Top 10 movie predictions:\")\n",
    "for i in range(10):\n",
    "    j = int(idx[i])\n",
    "    print('Predicted rating of {0} for movie {1}'.format(str(float(my_preds[j])), movies_idx[j]))"
   ]
  },
  {
   "cell_type": "markdown",
   "metadata": {},
   "source": [
    "----\n",
    "# 使用scipy.optimize.minimize\n",
    "scipy提供了scipy.optimize.minimize来自动求解最优解，首先我们先读入并生成数据"
   ]
  },
  {
   "cell_type": "code",
   "execution_count": 233,
   "metadata": {},
   "outputs": [],
   "source": [
    "from scipy.optimize import minimize\n",
    "\n",
    "movies_mat = sio.loadmat('./data/ex8_movies.mat')\n",
    "Y,R = movies_mat['Y'],movies_mat['R']\n",
    "Y = np.insert(Y, 0, ratings, axis=1)\n",
    "R = np.insert(R, 0, ratings!=0, axis = 1)\n",
    "\n",
    "movies = Y.shape[0]\n",
    "users = Y.shape[1]\n",
    "features = 50\n",
    "lam = 1\n",
    "learning_rate= 0.001\n",
    "iters  =  500\n",
    "Theta = np.random.randn(users,features)\n",
    "X = np.random.randn(movies,features)\n",
    "\n",
    "Y_mean = (np.sum(Y, axis=1)/np.sum(R,axis=1)).reshape(1682,1)\n",
    "Y_norm = (Y - Y_mean)*R\n",
    "\n",
    "params = np.concatenate((X.ravel(), Theta.ravel()))"
   ]
  },
  {
   "cell_type": "markdown",
   "metadata": {},
   "source": [
    "构建cost和grad，这里的params包含了X和theta两个参数"
   ]
  },
  {
   "cell_type": "code",
   "execution_count": 234,
   "metadata": {},
   "outputs": [],
   "source": [
    "def cost2(params, Y, R, features,lam):\n",
    "    X = params[:movies*features].reshape(movies,features)\n",
    "    Theta = params[movies*features:].reshape(users,features)\n",
    "    \n",
    "    error = np.dot(X,Theta.T)-Y\n",
    "    j = 0.5 * np.sum((error**2)*R) + 0.5*lam*np.sum(X**2) + 0.5*lam*np.sum(Theta**2)\n",
    "\n",
    "    return j\n",
    "\n",
    "def grad(params, Y, R, features,lam):\n",
    "    X = params[:movies*features].reshape(movies,features)\n",
    "    Theta = params[movies*features:].reshape(users,features)\n",
    "    error = np.dot(X,Theta.T)-Y\n",
    "    Theta_grad = np.dot((error*R).T,X)+lam*Theta\n",
    "    X_grad = np.dot((error*R),Theta)+lam*X\n",
    "    return np.concatenate((X_grad.ravel(), Theta_grad.ravel()))"
   ]
  },
  {
   "cell_type": "code",
   "execution_count": 249,
   "metadata": {},
   "outputs": [
    {
     "data": {
      "text/plain": [
       "     fun: 8334.05022220338\n",
       "     jac: array([-0.28603871, -0.03257379, -0.20231759, ..., -0.00049754,\n",
       "        0.00149946,  0.00034379])\n",
       " message: 'Max. number of function evaluations reached'\n",
       "    nfev: 500\n",
       "     nit: 34\n",
       "  status: 3\n",
       " success: False\n",
       "       x: array([-0.02350563, -0.21776081,  0.2114523 , ...,  0.28980342,\n",
       "        0.22598878, -0.3156141 ])"
      ]
     },
     "execution_count": 249,
     "metadata": {},
     "output_type": "execute_result"
    }
   ],
   "source": [
    "fmin = minimize(fun=cost2,\n",
    "                   x0=params,\n",
    "                   args=(Y_norm, R, features, lam),\n",
    "                   method='TNC',\n",
    "                   jac=grad,\n",
    "                   options={'maxiter': 500})\n",
    "fmin"
   ]
  },
  {
   "cell_type": "code",
   "execution_count": 250,
   "metadata": {},
   "outputs": [
    {
     "name": "stdout",
     "output_type": "stream",
     "text": [
      "[ 126   49  245 ...  438 1333  857]\n",
      "Predicted rating of 5.442228203746181 for movie Godfather, The (1972)\n",
      "\n",
      "Predicted rating of 5.428331296385471 for movie Star Wars (1977)\n",
      "\n",
      "Predicted rating of 5.327453348681676 for movie Chasing Amy (1997)\n",
      "\n",
      "Predicted rating of 5.2945139078605665 for movie Empire Strikes Back, The (1980)\n",
      "\n",
      "Predicted rating of 5.280404949321147 for movie Bridge on the River Kwai, The (1957)\n",
      "\n",
      "Predicted rating of 5.211371099022442 for movie Secrets & Lies (1996)\n",
      "\n",
      "Predicted rating of 5.210082813355116 for movie Terminator 2: Judgment Day (1991)\n",
      "\n",
      "Predicted rating of 5.197186632008606 for movie Duck Soup (1933)\n",
      "\n",
      "Predicted rating of 5.183475058247489 for movie Terminator, The (1984)\n",
      "\n",
      "Predicted rating of 5.1762519803701075 for movie Titanic (1997)\n",
      "\n"
     ]
    }
   ],
   "source": [
    "X = np.reshape(fmin.x[:movies * features], (movies, features))\n",
    "Theta = np.reshape(fmin.x[movies * features:], (users, features))\n",
    "prediction = X @ Theta.T\n",
    "my_preds = prediction[:, 0] + np.squeeze(Y_mean)\n",
    "idx = np.argsort(my_preds, axis=0)[::-1]\n",
    "print(idx)\n",
    "for i in range(10):\n",
    "    j = int(idx[i])\n",
    "    print('Predicted rating of {0} for movie {1}'.format(str(float(my_preds[j])), movies_idx[j]))"
   ]
  }
 ],
 "metadata": {
  "kernelspec": {
   "display_name": "Python 3",
   "language": "python",
   "name": "python3"
  },
  "language_info": {
   "codemirror_mode": {
    "name": "ipython",
    "version": 3
   },
   "file_extension": ".py",
   "mimetype": "text/x-python",
   "name": "python",
   "nbconvert_exporter": "python",
   "pygments_lexer": "ipython3",
   "version": "3.6.4"
  },
  "widgets": {
   "application/vnd.jupyter.widget-state+json": {
    "state": {},
    "version_major": 2,
    "version_minor": 0
   }
  }
 },
 "nbformat": 4,
 "nbformat_minor": 2
}
